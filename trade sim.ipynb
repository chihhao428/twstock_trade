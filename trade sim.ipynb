{
 "cells": [
  {
   "cell_type": "code",
   "execution_count": 1,
   "metadata": {},
   "outputs": [],
   "source": [
    "import pandas as pd\n",
    "import os\n",
    "import dataflow\n",
    "import datetime\n",
    "import trade_strategy\n",
    "from dateutil.relativedelta import relativedelta\n",
    "from trade_logger import TradeLogger, EventType\n",
    "%matplotlib inline"
   ]
  },
  {
   "cell_type": "markdown",
   "metadata": {},
   "source": [
    "## 跑一支股票"
   ]
  },
  {
   "cell_type": "code",
   "execution_count": 5,
   "metadata": {},
   "outputs": [],
   "source": [
    "df = pd.read_excel(\"./crawl_result/ETF50/1101.xlsx\")"
   ]
  },
  {
   "cell_type": "code",
   "execution_count": 6,
   "metadata": {
    "scrolled": true
   },
   "outputs": [
    {
     "name": "stdout",
     "output_type": "stream",
     "text": [
      "--\n",
      "--\n",
      "--\n",
      "--\n",
      "--\n",
      "--\n"
     ]
    },
    {
     "name": "stderr",
     "output_type": "stream",
     "text": [
      "/Users/rogerlo/Documents/work/code/python/test/finace_crawler/toolbox.py:78: FutureWarning: Currently, 'apply' passes the values as ndarrays to the applied function. In the future, this will change to passing it as Series objects. You need to specify 'raw=True' to keep the current behaviour, and you can pass 'raw=False' to silence this warning\n",
      "  rsv_series = df[column].rolling(window).apply(RSV)\n"
     ]
    }
   ],
   "source": [
    "df = dataflow.append_all_index(dataflow.preprocess(df))"
   ]
  },
  {
   "cell_type": "code",
   "execution_count": 7,
   "metadata": {},
   "outputs": [
    {
     "name": "stdout",
     "output_type": "stream",
     "text": [
      "year: 2013, diff: 18.300000, diff%: 18.300000\n",
      "year: 2014, diff: 0.600000, diff%: 0.600000\n",
      "year: 2015, diff: -26.420000, diff%: -26.420000\n",
      "year: 2016, diff: 30.990000, diff%: 30.990000\n",
      "year: 2017, diff: 5.500000, diff%: 5.500000\n"
     ]
    }
   ],
   "source": [
    "start_date = datetime.datetime(2013,1,1)\n",
    "end_date = datetime.datetime(2013,12,31)\n",
    "for i in range(5):\n",
    "    money_in_pocket = 100 #(K)\n",
    "    money_in_pocket_result, stock_share, end_price, trade_log = trade_strategy.baseline(df, money_in_pocket, start_date+relativedelta(years=i), end_date+relativedelta(years=i))\n",
    "    #print(trade_log)\n",
    "    #報酬\n",
    "    diff = (stock_share*end_price+money_in_pocket_result) - money_in_pocket\n",
    "    #報酬率\n",
    "    print(\"year: {}, diff: {:f}, diff%: {:f}\".format((start_date+relativedelta(years=i)).year, diff, diff/money_in_pocket*100))\n",
    "    "
   ]
  },
  {
   "cell_type": "code",
   "execution_count": 8,
   "metadata": {},
   "outputs": [
    {
     "name": "stdout",
     "output_type": "stream",
     "text": [
      "year: 2013, diff: 16.100000, diff%: 16.100000\n",
      "year: 2014, diff: 8.450000, diff%: 8.450000\n",
      "year: 2015, diff: -16.760000, diff%: -16.760000\n",
      "year: 2016, diff: 16.100000, diff%: 16.100000\n",
      "year: 2017, diff: 2.350000, diff%: 2.350000\n"
     ]
    }
   ],
   "source": [
    "start_date = datetime.datetime(2013,1,1)\n",
    "end_date = datetime.datetime(2013,12,31)\n",
    "for i in range(5):\n",
    "    money_in_pocket = 100 #(K)\n",
    "    money_in_pocket_result, stock_share, end_price, trade_log = trade_strategy.KD_basic(df, money_in_pocket, start_date+relativedelta(years=i), end_date+relativedelta(years=i))\n",
    "    #print(trade_log)\n",
    "    #報酬\n",
    "    diff = (stock_share*end_price+money_in_pocket_result) - money_in_pocket\n",
    "    #報酬率\n",
    "    print(\"year: {}, diff: {:f}, diff%: {:f}\".format((start_date+relativedelta(years=i)).year, diff, diff/money_in_pocket*100))\n",
    "    "
   ]
  },
  {
   "cell_type": "markdown",
   "metadata": {},
   "source": [
    "## 跑ETF 50"
   ]
  },
  {
   "cell_type": "code",
   "execution_count": 25,
   "metadata": {},
   "outputs": [
    {
     "name": "stderr",
     "output_type": "stream",
     "text": [
      "/Users/rogerlo/Documents/work/code/python/test/finace_crawler/toolbox.py:78: FutureWarning: Currently, 'apply' passes the values as ndarrays to the applied function. In the future, this will change to passing it as Series objects. You need to specify 'raw=True' to keep the current behaviour, and you can pass 'raw=False' to silence this warning\n",
      "  rsv_series = df[column].rolling(window).apply(RSV)\n"
     ]
    },
    {
     "name": "stdout",
     "output_type": "stream",
     "text": [
      "--\n",
      "--\n",
      "--\n",
      "--\n",
      "--\n",
      "--\n",
      "--\n",
      "--\n",
      "--\n",
      "--\n",
      "--\n",
      "--\n",
      "--\n",
      "--\n",
      "--\n",
      "--\n",
      "--\n",
      "--\n",
      "--\n",
      "--\n",
      "--\n",
      "--\n",
      "--\n",
      "--\n",
      "--\n",
      "--\n",
      "--\n",
      "--\n",
      "--\n",
      "--\n",
      "--\n",
      "--\n",
      "--\n"
     ]
    }
   ],
   "source": [
    "dfs = []\n",
    "for file in os.listdir(\"./crawl_result/ETF50/\"):\n",
    "    dfs.append(dataflow.append_all_index(dataflow.preprocess(pd.read_excel(f\"./crawl_result/ETF50/{file}\"))))"
   ]
  },
  {
   "cell_type": "code",
   "execution_count": 26,
   "metadata": {},
   "outputs": [],
   "source": [
    "baseline_row = []"
   ]
  },
  {
   "cell_type": "code",
   "execution_count": 27,
   "metadata": {},
   "outputs": [],
   "source": [
    "start_date = datetime.datetime(2013,1,1)\n",
    "end_date = datetime.datetime(2013,12,31)\n",
    "for i in range(5):\n",
    "    year = (start_date+relativedelta(years=i)).year\n",
    "    for df in dfs:\n",
    "        money_in_pocket = 1000 #(K)\n",
    "        money_in_pocket_result, stock_share, end_price, trade_log = trade_strategy.baseline(df, money_in_pocket, start_date+relativedelta(years=i), end_date+relativedelta(years=i))\n",
    "        #print(trade_log)\n",
    "        #報酬\n",
    "        diff = (stock_share*end_price+money_in_pocket_result) - money_in_pocket\n",
    "        #報酬率\n",
    "        baseline_row.append((df.iloc[0][\"stock_name\"], year, diff/money_in_pocket*100))\n",
    "        #print(\"year: {}, diff: {:f}, diff%: {:f}\".format(year, diff, diff/money_in_pocket*100))\n"
   ]
  },
  {
   "cell_type": "code",
   "execution_count": 28,
   "metadata": {},
   "outputs": [],
   "source": [
    "KD_row = []"
   ]
  },
  {
   "cell_type": "code",
   "execution_count": 47,
   "metadata": {},
   "outputs": [],
   "source": [
    "start_date = datetime.datetime(2013,1,1)\n",
    "end_date = datetime.datetime(2013,12,31)\n",
    "for i in range(5):\n",
    "    year = (start_date+relativedelta(years=i)).year\n",
    "    for df in dfs:\n",
    "        money_in_pocket = 1000 #(K)\n",
    "        money_in_pocket_result, stock_share, end_price, trade_log = trade_strategy.KD_basic(df, money_in_pocket, start_date+relativedelta(years=i), end_date+relativedelta(years=i), all_in=True, cross=True)\n",
    "        #print(trade_log)\n",
    "        #報酬\n",
    "        diff = (stock_share*end_price+money_in_pocket_result) - money_in_pocket\n",
    "        #報酬率\n",
    "        KD_row.append((df.iloc[0][\"stock_name\"], year, diff/money_in_pocket*100))\n",
    "        #print(\"year: {}, diff: {:f}, diff%: {:f}\".format(year, diff, diff/money_in_pocket*100))"
   ]
  },
  {
   "cell_type": "code",
   "execution_count": 48,
   "metadata": {},
   "outputs": [],
   "source": [
    "baseline_df = pd.DataFrame(data=baseline_row, columns=[\"name\", \"year\", \"baseline\"])\n",
    "kd_df = pd.DataFrame(data=KD_row, columns=[\"name\", \"year\", \"kd\"])"
   ]
  },
  {
   "cell_type": "code",
   "execution_count": 49,
   "metadata": {},
   "outputs": [],
   "source": [
    "result_df = pd.merge(baseline_df, kd_df, on=[\"name\",\"year\"])"
   ]
  },
  {
   "cell_type": "code",
   "execution_count": 50,
   "metadata": {},
   "outputs": [
    {
     "data": {
      "text/plain": [
       "(18724.698, 5333.54)"
      ]
     },
     "execution_count": 50,
     "metadata": {},
     "output_type": "execute_result"
    }
   ],
   "source": [
    "result_df[result_df[\"baseline\"]>=0][\"baseline\"].sum(), result_df[result_df[\"baseline\"]>=0][\"kd\"].sum()"
   ]
  },
  {
   "cell_type": "code",
   "execution_count": 51,
   "metadata": {},
   "outputs": [
    {
     "data": {
      "text/plain": [
       "(-2947.7580000000007, -1002.3410000000005)"
      ]
     },
     "execution_count": 51,
     "metadata": {},
     "output_type": "execute_result"
    }
   ],
   "source": [
    "result_df[result_df[\"baseline\"]<0][\"baseline\"].sum(), result_df[result_df[\"baseline\"]<0][\"kd\"].sum()"
   ]
  },
  {
   "cell_type": "code",
   "execution_count": 52,
   "metadata": {},
   "outputs": [
    {
     "data": {
      "text/plain": [
       "(0.7098039215686275, 0.7006535947712418)"
      ]
     },
     "execution_count": 52,
     "metadata": {},
     "output_type": "execute_result"
    }
   ],
   "source": [
    "# baselin法與kd法賺的比例\n",
    "len(result_df[result_df[\"baseline\"]>=0])/len(result_df), len(result_df[result_df[\"kd\"]>=0])/len(result_df)"
   ]
  },
  {
   "cell_type": "code",
   "execution_count": 53,
   "metadata": {},
   "outputs": [
    {
     "data": {
      "text/plain": [
       "0.7954545454545454"
      ]
     },
     "execution_count": 53,
     "metadata": {},
     "output_type": "execute_result"
    }
   ],
   "source": [
    "# 在baseline賺的時候，KD賺的比例\n",
    "len(result_df[(result_df[\"baseline\"]>0)&(result_df[\"kd\"]>0)])/len(result_df[result_df[\"baseline\"]>0])"
   ]
  },
  {
   "cell_type": "code",
   "execution_count": 54,
   "metadata": {},
   "outputs": [
    {
     "data": {
      "text/plain": [
       "0.32882882882882886"
      ]
     },
     "execution_count": 54,
     "metadata": {},
     "output_type": "execute_result"
    }
   ],
   "source": [
    "# 在baseline賠時，KD賺或持平的比例\n",
    "len(result_df[(result_df[\"baseline\"]<0)&(result_df[\"kd\"]>=0)])/len(result_df[result_df[\"baseline\"]<0])"
   ]
  },
  {
   "cell_type": "code",
   "execution_count": 55,
   "metadata": {},
   "outputs": [
    {
     "data": {
      "text/plain": [
       "0.14732965009208104"
      ]
     },
     "execution_count": 55,
     "metadata": {},
     "output_type": "execute_result"
    }
   ],
   "source": [
    "# 在baseline賺或持平時，KD賠的比例\n",
    "len(result_df[(result_df[\"baseline\"]>=0)&(result_df[\"kd\"]<0)])/len(result_df[result_df[\"baseline\"]>=0])"
   ]
  },
  {
   "cell_type": "code",
   "execution_count": null,
   "metadata": {},
   "outputs": [],
   "source": []
  }
 ],
 "metadata": {
  "kernelspec": {
   "display_name": "Python [default]",
   "language": "python",
   "name": "python3"
  },
  "language_info": {
   "codemirror_mode": {
    "name": "ipython",
    "version": 3
   },
   "file_extension": ".py",
   "mimetype": "text/x-python",
   "name": "python",
   "nbconvert_exporter": "python",
   "pygments_lexer": "ipython3",
   "version": "3.6.5"
  }
 },
 "nbformat": 4,
 "nbformat_minor": 2
}
