{
 "cells": [
  {
   "cell_type": "code",
   "execution_count": 1,
   "metadata": {},
   "outputs": [],
   "source": [
    "import pandas as pd\n",
    "import os\n",
    "import dataflow\n",
    "import datetime\n",
    "import trade_strategy\n",
    "from dateutil.relativedelta import relativedelta\n",
    "from trade_logger import TradeLogger, EventType\n",
    "%matplotlib inline"
   ]
  },
  {
   "cell_type": "markdown",
   "metadata": {},
   "source": [
    "## 跑一支股票"
   ]
  },
  {
   "cell_type": "code",
   "execution_count": 5,
   "metadata": {},
   "outputs": [],
   "source": [
    "df = pd.read_excel(\"./crawl_result/ETF50/1101.xlsx\")"
   ]
  },
  {
   "cell_type": "code",
   "execution_count": 6,
   "metadata": {
    "scrolled": true
   },
   "outputs": [
    {
     "name": "stdout",
     "output_type": "stream",
     "text": [
      "--\n",
      "--\n",
      "--\n",
      "--\n",
      "--\n",
      "--\n"
     ]
    },
    {
     "name": "stderr",
     "output_type": "stream",
     "text": [
      "/Users/rogerlo/Documents/work/code/python/test/finace_crawler/toolbox.py:78: FutureWarning: Currently, 'apply' passes the values as ndarrays to the applied function. In the future, this will change to passing it as Series objects. You need to specify 'raw=True' to keep the current behaviour, and you can pass 'raw=False' to silence this warning\n",
      "  rsv_series = df[column].rolling(window).apply(RSV)\n"
     ]
    }
   ],
   "source": [
    "df = dataflow.append_all_index(dataflow.preprocess(df))"
   ]
  },
  {
   "cell_type": "code",
   "execution_count": 7,
   "metadata": {},
   "outputs": [
    {
     "name": "stdout",
     "output_type": "stream",
     "text": [
      "year: 2013, diff: 18.300000, diff%: 18.300000\n",
      "year: 2014, diff: 0.600000, diff%: 0.600000\n",
      "year: 2015, diff: -26.420000, diff%: -26.420000\n",
      "year: 2016, diff: 30.990000, diff%: 30.990000\n",
      "year: 2017, diff: 5.500000, diff%: 5.500000\n"
     ]
    }
   ],
   "source": [
    "start_date = datetime.datetime(2013,1,1)\n",
    "end_date = datetime.datetime(2013,12,31)\n",
    "for i in range(5):\n",
    "    money_in_pocket = 100 #(K)\n",
    "    money_in_pocket_result, stock_share, end_price, trade_log = trade_strategy.baseline(df, money_in_pocket, start_date+relativedelta(years=i), end_date+relativedelta(years=i))\n",
    "    #print(trade_log)\n",
    "    #報酬\n",
    "    diff = (stock_share*end_price+money_in_pocket_result) - money_in_pocket\n",
    "    #報酬率\n",
    "    print(\"year: {}, diff: {:f}, diff%: {:f}\".format((start_date+relativedelta(years=i)).year, diff, diff/money_in_pocket*100))\n",
    "    "
   ]
  },
  {
   "cell_type": "code",
   "execution_count": 8,
   "metadata": {},
   "outputs": [
    {
     "name": "stdout",
     "output_type": "stream",
     "text": [
      "year: 2013, diff: 16.100000, diff%: 16.100000\n",
      "year: 2014, diff: 8.450000, diff%: 8.450000\n",
      "year: 2015, diff: -16.760000, diff%: -16.760000\n",
      "year: 2016, diff: 16.100000, diff%: 16.100000\n",
      "year: 2017, diff: 2.350000, diff%: 2.350000\n"
     ]
    }
   ],
   "source": [
    "start_date = datetime.datetime(2013,1,1)\n",
    "end_date = datetime.datetime(2013,12,31)\n",
    "for i in range(5):\n",
    "    money_in_pocket = 100 #(K)\n",
    "    money_in_pocket_result, stock_share, end_price, trade_log = trade_strategy.KD_basic(df, money_in_pocket, start_date+relativedelta(years=i), end_date+relativedelta(years=i))\n",
    "    #print(trade_log)\n",
    "    #報酬\n",
    "    diff = (stock_share*end_price+money_in_pocket_result) - money_in_pocket\n",
    "    #報酬率\n",
    "    print(\"year: {}, diff: {:f}, diff%: {:f}\".format((start_date+relativedelta(years=i)).year, diff, diff/money_in_pocket*100))\n",
    "    "
   ]
  },
  {
   "cell_type": "markdown",
   "metadata": {},
   "source": [
    "## 跑ETF 50"
   ]
  },
  {
   "cell_type": "code",
   "execution_count": 2,
   "metadata": {},
   "outputs": [
    {
     "name": "stderr",
     "output_type": "stream",
     "text": [
      "/Users/rogerlo/Documents/work/code/python/test/finace_crawler/toolbox.py:78: FutureWarning: Currently, 'apply' passes the values as ndarrays to the applied function. In the future, this will change to passing it as Series objects. You need to specify 'raw=True' to keep the current behaviour, and you can pass 'raw=False' to silence this warning\n",
      "  rsv_series = df[column].rolling(window).apply(RSV)\n"
     ]
    },
    {
     "name": "stdout",
     "output_type": "stream",
     "text": [
      "--\n",
      "--\n",
      "--\n",
      "--\n",
      "--\n",
      "--\n",
      "--\n",
      "--\n",
      "--\n",
      "--\n",
      "--\n",
      "--\n",
      "--\n",
      "--\n",
      "--\n",
      "--\n",
      "--\n",
      "--\n",
      "--\n",
      "--\n",
      "--\n",
      "--\n",
      "--\n",
      "--\n",
      "--\n",
      "--\n",
      "--\n",
      "--\n",
      "--\n",
      "--\n",
      "--\n",
      "--\n",
      "--\n"
     ]
    }
   ],
   "source": [
    "dfs = []\n",
    "for file in os.listdir(\"./crawl_result/ETF50/\"):\n",
    "    dfs.append(dataflow.append_all_index(dataflow.preprocess(pd.read_excel(f\"./crawl_result/ETF50/{file}\"))))"
   ]
  },
  {
   "cell_type": "code",
   "execution_count": 3,
   "metadata": {},
   "outputs": [],
   "source": [
    "baseline_row = []"
   ]
  },
  {
   "cell_type": "code",
   "execution_count": 4,
   "metadata": {},
   "outputs": [
    {
     "name": "stdout",
     "output_type": "stream",
     "text": [
      "year: 2013, diff: 610.110000, diff%: 61.011000\n",
      "year: 2013, diff: 93.500000, diff%: 9.350000\n",
      "year: 2013, diff: 51.000000, diff%: 5.100000\n",
      "year: 2013, diff: 292.800000, diff%: 29.280000\n",
      "year: 2013, diff: 66.300000, diff%: 6.630000\n",
      "year: 2013, diff: 79.300000, diff%: 7.930000\n",
      "year: 2013, diff: -94.300000, diff%: -9.430000\n",
      "year: 2013, diff: 221.100000, diff%: 22.110000\n",
      "year: 2013, diff: -21.280000, diff%: -2.128000\n",
      "year: 2013, diff: 215.900000, diff%: 21.590000\n",
      "year: 2013, diff: 478.400000, diff%: 47.840000\n",
      "year: 2013, diff: 32.400000, diff%: 3.240000\n",
      "year: 2013, diff: 555.830000, diff%: 55.583000\n",
      "year: 2013, diff: 335.100000, diff%: 33.510000\n",
      "year: 2013, diff: 813.200000, diff%: 81.320000\n",
      "year: 2013, diff: 139.500000, diff%: 13.950000\n",
      "year: 2013, diff: 80.640000, diff%: 8.064000\n",
      "year: 2013, diff: 209.600000, diff%: 20.960000\n",
      "year: 2013, diff: -217.800000, diff%: -21.780000\n",
      "year: 2013, diff: 81.200000, diff%: 8.120000\n",
      "year: 2013, diff: -318.000000, diff%: -31.800000\n",
      "year: 2013, diff: 84.100000, diff%: 8.410000\n",
      "year: 2013, diff: -123.990000, diff%: -12.399000\n",
      "year: 2013, diff: -28.800000, diff%: -2.880000\n",
      "year: 2013, diff: 124.150000, diff%: 12.415000\n",
      "year: 2013, diff: 400.000000, diff%: 40.000000\n",
      "year: 2013, diff: 205.800000, diff%: 20.580000\n",
      "year: 2013, diff: 209.000000, diff%: 20.900000\n",
      "year: 2013, diff: 318.000000, diff%: 31.800000\n",
      "year: 2013, diff: -67.100000, diff%: -6.710000\n",
      "year: 2013, diff: 266.000000, diff%: 26.600000\n",
      "year: 2013, diff: 259.750000, diff%: 25.975000\n",
      "year: 2013, diff: -65.340000, diff%: -6.534000\n",
      "year: 2013, diff: 707.120000, diff%: 70.712000\n",
      "year: 2013, diff: 382.500000, diff%: 38.250000\n",
      "year: 2013, diff: 56.680000, diff%: 5.668000\n",
      "year: 2013, diff: 89.000000, diff%: 8.900000\n",
      "year: 2013, diff: 553.410000, diff%: 55.341000\n",
      "year: 2013, diff: -14.000000, diff%: -1.400000\n",
      "year: 2013, diff: 78.000000, diff%: 7.800000\n",
      "year: 2013, diff: 44.500000, diff%: 4.450000\n",
      "year: 2013, diff: 228.750000, diff%: 22.875000\n",
      "year: 2013, diff: 141.900000, diff%: 14.190000\n",
      "year: 2013, diff: 278.400000, diff%: 27.840000\n",
      "year: 2013, diff: 37.200000, diff%: 3.720000\n",
      "year: 2013, diff: 254.220000, diff%: 25.422000\n",
      "year: 2013, diff: -65.000000, diff%: -6.500000\n",
      "year: 2013, diff: 357.760000, diff%: 35.776000\n",
      "year: 2013, diff: -3.600000, diff%: -0.360000\n",
      "year: 2013, diff: -300.960000, diff%: -30.096000\n",
      "year: 2013, diff: 169.560000, diff%: 16.956000\n",
      "year: 2014, diff: 131.500000, diff%: 13.150000\n",
      "year: 2014, diff: 72.900000, diff%: 7.290000\n",
      "year: 2014, diff: 57.950000, diff%: 5.795000\n",
      "year: 2014, diff: 46.000000, diff%: 4.600000\n",
      "year: 2014, diff: -7.200000, diff%: -0.720000\n",
      "year: 2014, diff: 75.400000, diff%: 7.540000\n",
      "year: 2014, diff: 327.600000, diff%: 32.760000\n",
      "year: 2014, diff: -78.400000, diff%: -7.840000\n",
      "year: 2014, diff: 951.400000, diff%: 95.140000\n",
      "year: 2014, diff: -11.200000, diff%: -1.120000\n",
      "year: 2014, diff: -89.100000, diff%: -8.910000\n",
      "year: 2014, diff: -30.600000, diff%: -3.060000\n",
      "year: 2014, diff: -3.000000, diff%: -0.300000\n",
      "year: 2014, diff: 176.000000, diff%: 17.600000\n",
      "year: 2014, diff: -160.060000, diff%: -16.006000\n",
      "year: 2014, diff: 18.550000, diff%: 1.855000\n",
      "year: 2014, diff: 238.950000, diff%: 23.895000\n",
      "year: 2014, diff: 142.560000, diff%: 14.256000\n",
      "year: 2014, diff: 232.400000, diff%: 23.240000\n",
      "year: 2014, diff: 200.200000, diff%: 20.020000\n",
      "year: 2014, diff: 400.500000, diff%: 40.050000\n",
      "year: 2014, diff: 76.950000, diff%: 7.695000\n",
      "year: 2014, diff: 288.000000, diff%: 28.800000\n",
      "year: 2014, diff: 131.000000, diff%: 13.100000\n",
      "year: 2014, diff: -164.400000, diff%: -16.440000\n",
      "year: 2014, diff: 0.000000, diff%: 0.000000\n",
      "year: 2014, diff: 39.600000, diff%: 3.960000\n",
      "year: 2014, diff: -88.000000, diff%: -8.800000\n",
      "year: 2014, diff: 272.000000, diff%: 27.200000\n",
      "year: 2014, diff: 126.000000, diff%: 12.600000\n",
      "year: 2014, diff: 190.300000, diff%: 19.030000\n",
      "year: 2014, diff: -174.090000, diff%: -17.409000\n",
      "year: 2014, diff: -118.800000, diff%: -11.880000\n",
      "year: 2014, diff: 151.080000, diff%: 15.108000\n",
      "year: 2014, diff: 72.000000, diff%: 7.200000\n",
      "year: 2014, diff: 974.220000, diff%: 97.422000\n",
      "year: 2014, diff: 355.500000, diff%: 35.550000\n",
      "year: 2014, diff: 18038.600000, diff%: 1803.860000\n",
      "year: 2014, diff: 216.000000, diff%: 21.600000\n",
      "year: 2014, diff: -30.450000, diff%: -3.045000\n",
      "year: 2014, diff: 57.300000, diff%: 5.730000\n",
      "year: 2014, diff: 6.600000, diff%: 0.660000\n",
      "year: 2014, diff: 12.090000, diff%: 1.209000\n",
      "year: 2014, diff: -43.550000, diff%: -4.355000\n",
      "year: 2014, diff: -67.200000, diff%: -6.720000\n",
      "year: 2014, diff: 38.400000, diff%: 3.840000\n",
      "year: 2014, diff: 177.750000, diff%: 17.775000\n",
      "year: 2014, diff: -15.640000, diff%: -1.564000\n",
      "year: 2014, diff: 24.050000, diff%: 2.405000\n",
      "year: 2014, diff: 722.400000, diff%: 72.240000\n",
      "year: 2014, diff: 3551.100000, diff%: 355.110000\n",
      "year: 2015, diff: -139.000000, diff%: -13.900000\n",
      "year: 2015, diff: -103.350000, diff%: -10.335000\n",
      "year: 2015, diff: -83.700000, diff%: -8.370000\n",
      "year: 2015, diff: 56.100000, diff%: 5.610000\n",
      "year: 2015, diff: -232.700000, diff%: -23.270000\n",
      "year: 2015, diff: -224.900000, diff%: -22.490000\n",
      "year: 2015, diff: -190.950000, diff%: -19.095000\n",
      "year: 2015, diff: -147.550000, diff%: -14.755000\n",
      "year: 2015, diff: -224.400000, diff%: -22.440000\n",
      "year: 2015, diff: -9.000000, diff%: -0.900000\n",
      "year: 2015, diff: 148.750000, diff%: 14.875000\n",
      "year: 2015, diff: 143.000000, diff%: 14.300000\n",
      "year: 2015, diff: 39.900000, diff%: 3.990000\n",
      "year: 2015, diff: -108.000000, diff%: -10.800000\n",
      "year: 2015, diff: -52.500000, diff%: -5.250000\n",
      "year: 2015, diff: -74.250000, diff%: -7.425000\n",
      "year: 2015, diff: -169.000000, diff%: -16.900000\n",
      "year: 2015, diff: -120.780000, diff%: -12.078000\n",
      "year: 2015, diff: -149.600000, diff%: -14.960000\n",
      "year: 2015, diff: -258.000000, diff%: -25.800000\n",
      "year: 2015, diff: -348.600000, diff%: -34.860000\n",
      "year: 2015, diff: -62.160000, diff%: -6.216000\n",
      "year: 2015, diff: -111.000000, diff%: -11.100000\n",
      "year: 2015, diff: 14.400000, diff%: 1.440000\n",
      "year: 2015, diff: 138.000000, diff%: 13.800000\n",
      "year: 2015, diff: 0.000000, diff%: 0.000000\n",
      "year: 2015, diff: -214.800000, diff%: -21.480000\n",
      "year: 2015, diff: 22.800000, diff%: 2.280000\n",
      "year: 2015, diff: 130.000000, diff%: 13.000000\n",
      "year: 2015, diff: -23.100000, diff%: -2.310000\n",
      "year: 2015, diff: -45.600000, diff%: -4.560000\n",
      "year: 2015, diff: -87.880000, diff%: -8.788000\n",
      "year: 2015, diff: 171.500000, diff%: 17.150000\n",
      "year: 2015, diff: -72.000000, diff%: -7.200000\n",
      "year: 2015, diff: -380.000000, diff%: -38.000000\n",
      "year: 2015, diff: 27.820000, diff%: 2.782000\n",
      "year: 2015, diff: 56.000000, diff%: 5.600000\n",
      "year: 2015, diff: -427.900000, diff%: -42.790000\n",
      "year: 2015, diff: -481.440000, diff%: -48.144000\n",
      "year: 2015, diff: -130.200000, diff%: -13.020000\n",
      "year: 2015, diff: 109.600000, diff%: 10.960000\n",
      "year: 2015, diff: -303.830000, diff%: -30.383000\n",
      "year: 2015, diff: -59.450000, diff%: -5.945000\n",
      "year: 2015, diff: -180.180000, diff%: -18.018000\n",
      "year: 2015, diff: 93.600000, diff%: 9.360000\n",
      "year: 2015, diff: -89.670000, diff%: -8.967000\n",
      "year: 2015, diff: 10.500000, diff%: 1.050000\n",
      "year: 2015, diff: -103.950000, diff%: -10.395000\n",
      "year: 2015, diff: -279.350000, diff%: -27.935000\n",
      "year: 2015, diff: -402.990000, diff%: -40.299000\n",
      "year: 2015, diff: 153.000000, diff%: 15.300000\n",
      "year: 2016, diff: 93.000000, diff%: 9.300000\n",
      "year: 2016, diff: 237.600000, diff%: 23.760000\n",
      "year: 2016, diff: 114.700000, diff%: 11.470000\n",
      "year: 2016, diff: 54.590000, diff%: 5.459000\n",
      "year: 2016, diff: 229.900000, diff%: 22.990000\n",
      "year: 2016, diff: 45.600000, diff%: 4.560000\n",
      "year: 2016, diff: -147.030000, diff%: -14.703000\n",
      "year: 2016, diff: 42.840000, diff%: 4.284000\n",
      "year: 2016, diff: 470.000000, diff%: 47.000000\n",
      "year: 2016, diff: 290.700000, diff%: 29.070000\n",
      "year: 2016, diff: 0.000000, diff%: 0.000000\n",
      "year: 2016, diff: 27.000000, diff%: 2.700000\n",
      "year: 2016, diff: 188.600000, diff%: 18.860000\n",
      "year: 2016, diff: 191.000000, diff%: 19.100000\n",
      "year: 2016, diff: -198.000000, diff%: -19.800000\n",
      "year: 2016, diff: 182.000000, diff%: 18.200000\n",
      "year: 2016, diff: 14.280000, diff%: 1.428000\n",
      "year: 2016, diff: 73.750000, diff%: 7.375000\n",
      "year: 2016, diff: 285.600000, diff%: 28.560000\n",
      "year: 2016, diff: 256.500000, diff%: 25.650000\n",
      "year: 2016, diff: 228.800000, diff%: 22.880000\n",
      "year: 2016, diff: 168.300000, diff%: 16.830000\n",
      "year: 2016, diff: 54.000000, diff%: 5.400000\n",
      "year: 2016, diff: 116.000000, diff%: 11.600000\n"
     ]
    },
    {
     "name": "stdout",
     "output_type": "stream",
     "text": [
      "year: 2016, diff: 442.400000, diff%: 44.240000\n",
      "year: 2016, diff: 0.000000, diff%: 0.000000\n",
      "year: 2016, diff: 82.800000, diff%: 8.280000\n",
      "year: 2016, diff: 308.100000, diff%: 30.810000\n",
      "year: 2016, diff: -115.500000, diff%: -11.550000\n",
      "year: 2016, diff: 122.400000, diff%: 12.240000\n",
      "year: 2016, diff: 207.900000, diff%: 20.790000\n",
      "year: 2016, diff: 649.280000, diff%: 64.928000\n",
      "year: 2016, diff: 508.300000, diff%: 50.830000\n",
      "year: 2016, diff: 220.000000, diff%: 22.000000\n",
      "year: 2016, diff: -70.000000, diff%: -7.000000\n",
      "year: 2016, diff: 157.220000, diff%: 15.722000\n",
      "year: 2016, diff: 336.000000, diff%: 33.600000\n",
      "year: 2016, diff: 137.500000, diff%: 13.750000\n",
      "year: 2016, diff: -420.000000, diff%: -42.000000\n",
      "year: 2016, diff: 8.000000, diff%: 0.800000\n",
      "year: 2016, diff: 87.900000, diff%: 8.790000\n",
      "year: 2016, diff: 392.540000, diff%: 39.254000\n",
      "year: 2016, diff: 164.500000, diff%: 16.450000\n",
      "year: 2016, diff: 98.100000, diff%: 9.810000\n",
      "year: 2016, diff: 265.200000, diff%: 26.520000\n",
      "year: 2016, diff: 171.600000, diff%: 17.160000\n",
      "year: 2016, diff: 150.750000, diff%: 15.075000\n",
      "year: 2016, diff: 164.650000, diff%: 16.465000\n",
      "year: 2016, diff: 436.050000, diff%: 43.605000\n",
      "year: 2016, diff: 282.450000, diff%: 28.245000\n",
      "year: 2016, diff: 138.600000, diff%: 13.860000\n",
      "year: 2017, diff: -60.000000, diff%: -6.000000\n",
      "year: 2017, diff: 220.400000, diff%: 22.040000\n",
      "year: 2017, diff: 255.600000, diff%: 25.560000\n",
      "year: 2017, diff: 93.420000, diff%: 9.342000\n",
      "year: 2017, diff: -94.400000, diff%: -9.440000\n",
      "year: 2017, diff: 96.200000, diff%: 9.620000\n",
      "year: 2017, diff: 253.590000, diff%: 25.359000\n",
      "year: 2017, diff: 190.900000, diff%: 19.090000\n",
      "year: 2017, diff: 452.480000, diff%: 45.248000\n",
      "year: 2017, diff: 156.800000, diff%: 15.680000\n",
      "year: 2017, diff: -7.200000, diff%: -0.720000\n",
      "year: 2017, diff: 266.400000, diff%: 26.640000\n",
      "year: 2017, diff: 150.000000, diff%: 15.000000\n",
      "year: 2017, diff: 236.000000, diff%: 23.600000\n",
      "year: 2017, diff: 452.500000, diff%: 45.250000\n",
      "year: 2017, diff: 21.460000, diff%: 2.146000\n",
      "year: 2017, diff: 287.100000, diff%: 28.710000\n",
      "year: 2017, diff: 321.160000, diff%: 32.116000\n",
      "year: 2017, diff: 38.500000, diff%: 3.850000\n",
      "year: 2017, diff: 86.400000, diff%: 8.640000\n",
      "year: 2017, diff: 32.800000, diff%: 3.280000\n",
      "year: 2017, diff: 103.700000, diff%: 10.370000\n",
      "year: 2017, diff: 88.500000, diff%: 8.850000\n",
      "year: 2017, diff: 77.400000, diff%: 7.740000\n",
      "year: 2017, diff: 113.000000, diff%: 11.300000\n",
      "year: 2017, diff: 0.000000, diff%: 0.000000\n",
      "year: 2017, diff: 626.400000, diff%: 62.640000\n",
      "year: 2017, diff: -7.750000, diff%: -0.775000\n",
      "year: 2017, diff: 450.000000, diff%: 45.000000\n",
      "year: 2017, diff: 169.400000, diff%: 16.940000\n",
      "year: 2017, diff: 24.700000, diff%: 2.470000\n",
      "year: 2017, diff: -90.600000, diff%: -9.060000\n",
      "year: 2017, diff: 108.000000, diff%: 10.800000\n",
      "year: 2017, diff: -104.100000, diff%: -10.410000\n",
      "year: 2017, diff: 342.000000, diff%: 34.200000\n",
      "year: 2017, diff: -17.640000, diff%: -1.764000\n",
      "year: 2017, diff: 267.500000, diff%: 26.750000\n",
      "year: 2017, diff: 639.450000, diff%: 63.945000\n",
      "year: 2017, diff: 1327.140000, diff%: 132.714000\n",
      "year: 2017, diff: 135.300000, diff%: 13.530000\n",
      "year: 2017, diff: 75.960000, diff%: 7.596000\n",
      "year: 2017, diff: 77.000000, diff%: 7.700000\n",
      "year: 2017, diff: 101.910000, diff%: 10.191000\n",
      "year: 2017, diff: 141.900000, diff%: 14.190000\n",
      "year: 2017, diff: 145.200000, diff%: 14.520000\n",
      "year: 2017, diff: 212.800000, diff%: 21.280000\n",
      "year: 2017, diff: 72.150000, diff%: 7.215000\n",
      "year: 2017, diff: 252.840000, diff%: 25.284000\n",
      "year: 2017, diff: 46.000000, diff%: 4.600000\n",
      "year: 2017, diff: 48.800000, diff%: 4.880000\n",
      "year: 2017, diff: 4750.400000, diff%: 475.040000\n"
     ]
    }
   ],
   "source": [
    "start_date = datetime.datetime(2013,1,1)\n",
    "end_date = datetime.datetime(2013,12,31)\n",
    "for i in range(5):\n",
    "    year = (start_date+relativedelta(years=i)).year\n",
    "    for df in dfs:\n",
    "        money_in_pocket = 1000 #(K)\n",
    "        money_in_pocket_result, stock_share, end_price, trade_log = trade_strategy.baseline(df, money_in_pocket, start_date+relativedelta(years=i), end_date+relativedelta(years=i))\n",
    "        #print(trade_log)\n",
    "        #報酬\n",
    "        diff = (stock_share*end_price+money_in_pocket_result) - money_in_pocket\n",
    "        #報酬率\n",
    "        baseline_row.append((df.iloc[0][\"stock_name\"], year, diff/money_in_pocket*100))\n",
    "        print(\"year: {}, diff: {:f}, diff%: {:f}\".format(year, diff, diff/money_in_pocket*100))\n"
   ]
  },
  {
   "cell_type": "code",
   "execution_count": 5,
   "metadata": {},
   "outputs": [],
   "source": [
    "KD_row = []"
   ]
  },
  {
   "cell_type": "code",
   "execution_count": 6,
   "metadata": {},
   "outputs": [
    {
     "name": "stdout",
     "output_type": "stream",
     "text": [
      "year: 2013, diff: 120.160000, diff%: 12.016000\n",
      "year: 2013, diff: 22.800000, diff%: 2.280000\n",
      "year: 2013, diff: 14.750000, diff%: 1.475000\n",
      "year: 2013, diff: 6.950000, diff%: 0.695000\n",
      "year: 2013, diff: 53.300000, diff%: 5.330000\n",
      "year: 2013, diff: 42.250000, diff%: 4.225000\n",
      "year: 2013, diff: -0.550000, diff%: -0.055000\n",
      "year: 2013, diff: 23.400000, diff%: 2.340000\n",
      "year: 2013, diff: 18.060000, diff%: 1.806000\n",
      "year: 2013, diff: 147.800000, diff%: 14.780000\n",
      "year: 2013, diff: 27.450000, diff%: 2.745000\n",
      "year: 2013, diff: 66.700000, diff%: 6.670000\n",
      "year: 2013, diff: 75.830000, diff%: 7.583000\n",
      "year: 2013, diff: 25.500000, diff%: 2.550000\n",
      "year: 2013, diff: 199.900000, diff%: 19.990000\n",
      "year: 2013, diff: 13.750000, diff%: 1.375000\n",
      "year: 2013, diff: 13.050000, diff%: 1.305000\n",
      "year: 2013, diff: 19.650000, diff%: 1.965000\n",
      "year: 2013, diff: -76.400000, diff%: -7.640000\n",
      "year: 2013, diff: 134.400000, diff%: 13.440000\n",
      "year: 2013, diff: -7.000000, diff%: -0.700000\n",
      "year: 2013, diff: 14.800000, diff%: 1.480000\n",
      "year: 2013, diff: -168.490000, diff%: -16.849000\n",
      "year: 2013, diff: -27.800000, diff%: -2.780000\n",
      "year: 2013, diff: 130.750000, diff%: 13.075000\n",
      "year: 2013, diff: 265.000000, diff%: 26.500000\n",
      "year: 2013, diff: -60.300000, diff%: -6.030000\n",
      "year: 2013, diff: 42.250000, diff%: 4.225000\n",
      "year: 2013, diff: 143.500000, diff%: 14.350000\n",
      "year: 2013, diff: 10.600000, diff%: 1.060000\n",
      "year: 2013, diff: 40.250000, diff%: 4.025000\n",
      "year: 2013, diff: 10.350000, diff%: 1.035000\n",
      "year: 2013, diff: 121.480000, diff%: 12.148000\n",
      "year: 2013, diff: 29.890000, diff%: 2.989000\n",
      "year: 2013, diff: 139.500000, diff%: 13.950000\n",
      "year: 2013, diff: -12.620000, diff%: -1.262000\n",
      "year: 2013, diff: 120.600000, diff%: 12.060000\n",
      "year: 2013, diff: 2.610000, diff%: 0.261000\n",
      "year: 2013, diff: 22.300000, diff%: 2.230000\n",
      "year: 2013, diff: 21.100000, diff%: 2.110000\n",
      "year: 2013, diff: 20.850000, diff%: 2.085000\n",
      "year: 2013, diff: 56.350000, diff%: 5.635000\n",
      "year: 2013, diff: 60.800000, diff%: 6.080000\n",
      "year: 2013, diff: 15.450000, diff%: 1.545000\n",
      "year: 2013, diff: 116.800000, diff%: 11.680000\n",
      "year: 2013, diff: 1.700000, diff%: 0.170000\n",
      "year: 2013, diff: -48.000000, diff%: -4.800000\n",
      "year: 2013, diff: 6.050000, diff%: 0.605000\n",
      "year: 2013, diff: 60.850000, diff%: 6.085000\n",
      "year: 2013, diff: -13.880000, diff%: -1.388000\n",
      "year: 2013, diff: 14.820000, diff%: 1.482000\n",
      "year: 2014, diff: -10.500000, diff%: -1.050000\n",
      "year: 2014, diff: 5.000000, diff%: 0.500000\n",
      "year: 2014, diff: 2.350000, diff%: 0.235000\n",
      "year: 2014, diff: 33.190000, diff%: 3.319000\n",
      "year: 2014, diff: -72.800000, diff%: -7.280000\n",
      "year: 2014, diff: 8.850000, diff%: 0.885000\n",
      "year: 2014, diff: 87.060000, diff%: 8.706000\n",
      "year: 2014, diff: 13.250000, diff%: 1.325000\n",
      "year: 2014, diff: 13.240000, diff%: 1.324000\n",
      "year: 2014, diff: 6.800000, diff%: 0.680000\n",
      "year: 2014, diff: 124.350000, diff%: 12.435000\n",
      "year: 2014, diff: 64.600000, diff%: 6.460000\n",
      "year: 2014, diff: 23.200000, diff%: 2.320000\n",
      "year: 2014, diff: 162.500000, diff%: 16.250000\n",
      "year: 2014, diff: 183.000000, diff%: 18.300000\n",
      "year: 2014, diff: 15.800000, diff%: 1.580000\n",
      "year: 2014, diff: 8.100000, diff%: 0.810000\n",
      "year: 2014, diff: 3.680000, diff%: 0.368000\n",
      "year: 2014, diff: 126.000000, diff%: 12.600000\n",
      "year: 2014, diff: 32.200000, diff%: 3.220000\n",
      "year: 2014, diff: 47.750000, diff%: 4.775000\n",
      "year: 2014, diff: 5.550000, diff%: 0.555000\n",
      "year: 2014, diff: 125.500000, diff%: 12.550000\n",
      "year: 2014, diff: 51.000000, diff%: 5.100000\n",
      "year: 2014, diff: -50.300000, diff%: -5.030000\n",
      "year: 2014, diff: 0.000000, diff%: 0.000000\n",
      "year: 2014, diff: 55.800000, diff%: 5.580000\n",
      "year: 2014, diff: 15.050000, diff%: 1.505000\n",
      "year: 2014, diff: -87.500000, diff%: -8.750000\n",
      "year: 2014, diff: -3.200000, diff%: -0.320000\n",
      "year: 2014, diff: 60.800000, diff%: 6.080000\n",
      "year: 2014, diff: -145.600000, diff%: -14.560000\n",
      "year: 2014, diff: 20.400000, diff%: 2.040000\n",
      "year: 2014, diff: -8.500000, diff%: -0.850000\n",
      "year: 2014, diff: -56.000000, diff%: -5.600000\n",
      "year: 2014, diff: 16.600000, diff%: 1.660000\n",
      "year: 2014, diff: 97.000000, diff%: 9.700000\n",
      "year: 2014, diff: 495.360000, diff%: 49.536000\n",
      "year: 2014, diff: 83.300000, diff%: 8.330000\n",
      "year: 2014, diff: 22.150000, diff%: 2.215000\n",
      "year: 2014, diff: 38.960000, diff%: 3.896000\n",
      "year: 2014, diff: 26.950000, diff%: 2.695000\n",
      "year: 2014, diff: 7.000000, diff%: 0.700000\n",
      "year: 2014, diff: 11.200000, diff%: 1.120000\n",
      "year: 2014, diff: 30.400000, diff%: 3.040000\n",
      "year: 2014, diff: 8.550000, diff%: 0.855000\n",
      "year: 2014, diff: 78.750000, diff%: 7.875000\n",
      "year: 2014, diff: -9.800000, diff%: -0.980000\n",
      "year: 2014, diff: 3.300000, diff%: 0.330000\n",
      "year: 2014, diff: 68.830000, diff%: 6.883000\n",
      "year: 2014, diff: 3.550000, diff%: 0.355000\n",
      "year: 2015, diff: -111.500000, diff%: -11.150000\n",
      "year: 2015, diff: -26.950000, diff%: -2.695000\n",
      "year: 2015, diff: 0.850000, diff%: 0.085000\n",
      "year: 2015, diff: 2.700000, diff%: 0.270000\n",
      "year: 2015, diff: -180.500000, diff%: -18.050000\n",
      "year: 2015, diff: -128.800000, diff%: -12.880000\n",
      "year: 2015, diff: -8.700000, diff%: -0.870000\n",
      "year: 2015, diff: -23.250000, diff%: -2.325000\n",
      "year: 2015, diff: -24.880000, diff%: -2.488000\n",
      "year: 2015, diff: -30.500000, diff%: -3.050000\n",
      "year: 2015, diff: 74.400000, diff%: 7.440000\n",
      "year: 2015, diff: 57.300000, diff%: 5.730000\n",
      "year: 2015, diff: 41.450000, diff%: 4.145000\n",
      "year: 2015, diff: 30.500000, diff%: 3.050000\n",
      "year: 2015, diff: 182.500000, diff%: 18.250000\n",
      "year: 2015, diff: 2.800000, diff%: 0.280000\n",
      "year: 2015, diff: -14.350000, diff%: -1.435000\n",
      "year: 2015, diff: -32.960000, diff%: -3.296000\n",
      "year: 2015, diff: -163.200000, diff%: -16.320000\n",
      "year: 2015, diff: -146.700000, diff%: -14.670000\n",
      "year: 2015, diff: -61.300000, diff%: -6.130000\n",
      "year: 2015, diff: -8.300000, diff%: -0.830000\n",
      "year: 2015, diff: 126.500000, diff%: 12.650000\n",
      "year: 2015, diff: 0.000000, diff%: 0.000000\n",
      "year: 2015, diff: 88.000000, diff%: 8.800000\n",
      "year: 2015, diff: 0.000000, diff%: 0.000000\n",
      "year: 2015, diff: -163.100000, diff%: -16.310000\n",
      "year: 2015, diff: -29.050000, diff%: -2.905000\n",
      "year: 2015, diff: -76.500000, diff%: -7.650000\n",
      "year: 2015, diff: -23.300000, diff%: -2.330000\n",
      "year: 2015, diff: -78.950000, diff%: -7.895000\n",
      "year: 2015, diff: 6.460000, diff%: 0.646000\n",
      "year: 2015, diff: 46.900000, diff%: 4.690000\n",
      "year: 2015, diff: -69.500000, diff%: -6.950000\n",
      "year: 2015, diff: -332.500000, diff%: -33.250000\n",
      "year: 2015, diff: 8.200000, diff%: 0.820000\n",
      "year: 2015, diff: 23.500000, diff%: 2.350000\n",
      "year: 2015, diff: -79.800000, diff%: -7.980000\n",
      "year: 2015, diff: -150.470000, diff%: -15.047000\n",
      "year: 2015, diff: -81.700000, diff%: -8.170000\n",
      "year: 2015, diff: 35.620000, diff%: 3.562000\n",
      "year: 2015, diff: -247.980000, diff%: -24.798000\n",
      "year: 2015, diff: -6.150000, diff%: -0.615000\n",
      "year: 2015, diff: -21.070000, diff%: -2.107000\n",
      "year: 2015, diff: 119.200000, diff%: 11.920000\n",
      "year: 2015, diff: -16.150000, diff%: -1.615000\n",
      "year: 2015, diff: -15.200000, diff%: -1.520000\n",
      "year: 2015, diff: -12.750000, diff%: -1.275000\n",
      "year: 2015, diff: -173.300000, diff%: -17.330000\n",
      "year: 2015, diff: -71.300000, diff%: -7.130000\n",
      "year: 2015, diff: 98.450000, diff%: 9.845000\n",
      "year: 2016, diff: 55.000000, diff%: 5.500000\n",
      "year: 2016, diff: 13.850000, diff%: 1.385000\n",
      "year: 2016, diff: 14.750000, diff%: 1.475000\n",
      "year: 2016, diff: 27.250000, diff%: 2.725000\n",
      "year: 2016, diff: 71.200000, diff%: 7.120000\n",
      "year: 2016, diff: 109.800000, diff%: 10.980000\n",
      "year: 2016, diff: -19.170000, diff%: -1.917000\n",
      "year: 2016, diff: 28.490000, diff%: 2.849000\n",
      "year: 2016, diff: 10.360000, diff%: 1.036000\n",
      "year: 2016, diff: 81.700000, diff%: 8.170000\n",
      "year: 2016, diff: 29.900000, diff%: 2.990000\n",
      "year: 2016, diff: -5.100000, diff%: -0.510000\n",
      "year: 2016, diff: 117.350000, diff%: 11.735000\n",
      "year: 2016, diff: 4.500000, diff%: 0.450000\n",
      "year: 2016, diff: -126.500000, diff%: -12.650000\n",
      "year: 2016, diff: 20.850000, diff%: 2.085000\n",
      "year: 2016, diff: 24.200000, diff%: 2.420000\n",
      "year: 2016, diff: 20.970000, diff%: 2.097000\n",
      "year: 2016, diff: 91.900000, diff%: 9.190000\n",
      "year: 2016, diff: 83.450000, diff%: 8.345000\n",
      "year: 2016, diff: 44.470000, diff%: 4.447000\n",
      "year: 2016, diff: 13.600000, diff%: 1.360000\n",
      "year: 2016, diff: 137.500000, diff%: 13.750000\n",
      "year: 2016, diff: -47.500000, diff%: -4.750000\n",
      "year: 2016, diff: 31.200000, diff%: 3.120000\n",
      "year: 2016, diff: 0.000000, diff%: 0.000000\n",
      "year: 2016, diff: 76.650000, diff%: 7.665000\n",
      "year: 2016, diff: 50.350000, diff%: 5.035000\n",
      "year: 2016, diff: 140.000000, diff%: 14.000000\n"
     ]
    },
    {
     "name": "stdout",
     "output_type": "stream",
     "text": [
      "year: 2016, diff: 171.700000, diff%: 17.170000\n",
      "year: 2016, diff: 95.300000, diff%: 9.530000\n",
      "year: 2016, diff: 14.550000, diff%: 1.455000\n",
      "year: 2016, diff: 93.600000, diff%: 9.360000\n",
      "year: 2016, diff: 97.000000, diff%: 9.700000\n",
      "year: 2016, diff: 69.000000, diff%: 6.900000\n",
      "year: 2016, diff: 153.300000, diff%: 15.330000\n",
      "year: 2016, diff: 131.000000, diff%: 13.100000\n",
      "year: 2016, diff: 180.250000, diff%: 18.025000\n",
      "year: 2016, diff: -144.540000, diff%: -14.454000\n",
      "year: 2016, diff: 75.250000, diff%: 7.525000\n",
      "year: 2016, diff: -86.000000, diff%: -8.600000\n",
      "year: 2016, diff: 40.450000, diff%: 4.045000\n",
      "year: 2016, diff: 40.400000, diff%: 4.040000\n",
      "year: 2016, diff: 21.030000, diff%: 2.103000\n",
      "year: 2016, diff: 31.000000, diff%: 3.100000\n",
      "year: 2016, diff: 26.800000, diff%: 2.680000\n",
      "year: 2016, diff: 4.900000, diff%: 0.490000\n",
      "year: 2016, diff: 15.550000, diff%: 1.555000\n",
      "year: 2016, diff: 16.100000, diff%: 1.610000\n",
      "year: 2016, diff: 33.640000, diff%: 3.364000\n",
      "year: 2016, diff: 27.700000, diff%: 2.770000\n",
      "year: 2017, diff: -92.500000, diff%: -9.250000\n",
      "year: 2017, diff: 6.600000, diff%: 0.660000\n",
      "year: 2017, diff: 1.000000, diff%: 0.100000\n",
      "year: 2017, diff: 4.900000, diff%: 0.490000\n",
      "year: 2017, diff: -84.300000, diff%: -8.430000\n",
      "year: 2017, diff: 25.300000, diff%: 2.530000\n",
      "year: 2017, diff: 49.380000, diff%: 4.938000\n",
      "year: 2017, diff: 9.000000, diff%: 0.900000\n",
      "year: 2017, diff: 23.020000, diff%: 2.302000\n",
      "year: 2017, diff: 17.600000, diff%: 1.760000\n",
      "year: 2017, diff: -24.250000, diff%: -2.425000\n",
      "year: 2017, diff: 13.900000, diff%: 1.390000\n",
      "year: 2017, diff: 134.200000, diff%: 13.420000\n",
      "year: 2017, diff: 20.500000, diff%: 2.050000\n",
      "year: 2017, diff: 29.500000, diff%: 2.950000\n",
      "year: 2017, diff: 8.670000, diff%: 0.867000\n",
      "year: 2017, diff: -6.250000, diff%: -0.625000\n",
      "year: 2017, diff: 7.970000, diff%: 0.797000\n",
      "year: 2017, diff: 68.100000, diff%: 6.810000\n",
      "year: 2017, diff: -68.000000, diff%: -6.800000\n",
      "year: 2017, diff: -25.350000, diff%: -2.535000\n",
      "year: 2017, diff: 15.250000, diff%: 1.525000\n",
      "year: 2017, diff: 29.000000, diff%: 2.900000\n",
      "year: 2017, diff: 11.000000, diff%: 1.100000\n",
      "year: 2017, diff: 64.500000, diff%: 6.450000\n",
      "year: 2017, diff: 0.000000, diff%: 0.000000\n",
      "year: 2017, diff: 103.300000, diff%: 10.330000\n",
      "year: 2017, diff: 83.900000, diff%: 8.390000\n",
      "year: 2017, diff: 3.500000, diff%: 0.350000\n",
      "year: 2017, diff: -66.200000, diff%: -6.620000\n",
      "year: 2017, diff: 107.600000, diff%: 10.760000\n",
      "year: 2017, diff: -51.210000, diff%: -5.121000\n",
      "year: 2017, diff: 123.500000, diff%: 12.350000\n",
      "year: 2017, diff: -1.700000, diff%: -0.170000\n",
      "year: 2017, diff: 141.500000, diff%: 14.150000\n",
      "year: 2017, diff: -111.000000, diff%: -11.100000\n",
      "year: 2017, diff: 45.500000, diff%: 4.550000\n",
      "year: 2017, diff: 8.800000, diff%: 0.880000\n",
      "year: 2017, diff: -18.380000, diff%: -1.838000\n",
      "year: 2017, diff: 40.650000, diff%: 4.065000\n",
      "year: 2017, diff: 35.000000, diff%: 3.500000\n",
      "year: 2017, diff: 29.550000, diff%: 2.955000\n",
      "year: 2017, diff: 6.700000, diff%: 0.670000\n",
      "year: 2017, diff: 5.680000, diff%: 0.568000\n",
      "year: 2017, diff: 107.600000, diff%: 10.760000\n",
      "year: 2017, diff: 1.600000, diff%: 0.160000\n",
      "year: 2017, diff: 35.100000, diff%: 3.510000\n",
      "year: 2017, diff: 6.100000, diff%: 0.610000\n",
      "year: 2017, diff: 15.200000, diff%: 1.520000\n",
      "year: 2017, diff: 16.750000, diff%: 1.675000\n",
      "year: 2017, diff: 136.500000, diff%: 13.650000\n"
     ]
    }
   ],
   "source": [
    "start_date = datetime.datetime(2013,1,1)\n",
    "end_date = datetime.datetime(2013,12,31)\n",
    "for i in range(5):\n",
    "    year = (start_date+relativedelta(years=i)).year\n",
    "    for df in dfs:\n",
    "        money_in_pocket = 1000 #(K)\n",
    "        money_in_pocket_result, stock_share, end_price, trade_log = trade_strategy.KD_basic(df, money_in_pocket, start_date+relativedelta(years=i), end_date+relativedelta(years=i))\n",
    "        #print(trade_log)\n",
    "        #報酬\n",
    "        diff = (stock_share*end_price+money_in_pocket_result) - money_in_pocket\n",
    "        #報酬率\n",
    "        KD_row.append((df.iloc[0][\"stock_name\"], year, diff/money_in_pocket*100))\n",
    "        print(\"year: {}, diff: {:f}, diff%: {:f}\".format(year, diff, diff/money_in_pocket*100))"
   ]
  },
  {
   "cell_type": "code",
   "execution_count": 7,
   "metadata": {},
   "outputs": [],
   "source": [
    "baseline_df = pd.DataFrame(data=baseline_row, columns=[\"name\", \"year\", \"baseline\"])\n",
    "kd_df = pd.DataFrame(data=KD_row, columns=[\"name\", \"year\", \"kd\"])"
   ]
  },
  {
   "cell_type": "code",
   "execution_count": 8,
   "metadata": {},
   "outputs": [],
   "source": [
    "result_df = pd.merge(baseline_df, kd_df, on=[\"name\",\"year\"])"
   ]
  },
  {
   "cell_type": "code",
   "execution_count": 9,
   "metadata": {},
   "outputs": [
    {
     "data": {
      "text/plain": [
       "(-982.586, -234.55999999999997)"
      ]
     },
     "execution_count": 9,
     "metadata": {},
     "output_type": "execute_result"
    }
   ],
   "source": [
    "result_df[result_df[\"baseline\"]<=0][\"baseline\"].sum(), result_df[result_df[\"baseline\"]<=0][\"kd\"].sum()"
   ]
  },
  {
   "cell_type": "code",
   "execution_count": 10,
   "metadata": {},
   "outputs": [
    {
     "data": {
      "text/plain": [
       "(6241.566, 788.548)"
      ]
     },
     "execution_count": 10,
     "metadata": {},
     "output_type": "execute_result"
    }
   ],
   "source": [
    "result_df[result_df[\"baseline\"]>=0][\"baseline\"].sum(), result_df[result_df[\"baseline\"]>=0][\"kd\"].sum()"
   ]
  },
  {
   "cell_type": "code",
   "execution_count": 18,
   "metadata": {},
   "outputs": [
    {
     "data": {
      "text/plain": [
       "(0.7098039215686275, 0.7372549019607844)"
      ]
     },
     "execution_count": 18,
     "metadata": {},
     "output_type": "execute_result"
    }
   ],
   "source": [
    "ㄑ\n",
    "len(result_df[result_df[\"baseline\"]>=0])/len(result_df), len(result_df[result_df[\"kd\"]>=0])/len(result_df)"
   ]
  },
  {
   "cell_type": "code",
   "execution_count": 28,
   "metadata": {},
   "outputs": [
    {
     "data": {
      "text/plain": [
       "0.8920454545454546"
      ]
     },
     "execution_count": 28,
     "metadata": {},
     "output_type": "execute_result"
    }
   ],
   "source": [
    "# 在baseline賺的時候，KD賺的比例\n",
    "len(result_df[(result_df[\"baseline\"]>0)&(result_df[\"kd\"]>0)])/len(result_df[result_df[\"baseline\"]>0])"
   ]
  },
  {
   "cell_type": "code",
   "execution_count": 25,
   "metadata": {},
   "outputs": [
    {
     "data": {
      "text/plain": [
       "0.33783783783783783"
      ]
     },
     "execution_count": 25,
     "metadata": {},
     "output_type": "execute_result"
    }
   ],
   "source": [
    "# 在baseline賠時，KD賺或持平的比例\n",
    "len(result_df[(result_df[\"baseline\"]<0)&(result_df[\"kd\"]>=0)])/len(result_df[result_df[\"baseline\"]<0])"
   ]
  },
  {
   "cell_type": "code",
   "execution_count": 23,
   "metadata": {},
   "outputs": [
    {
     "data": {
      "text/plain": [
       "0.09944751381215469"
      ]
     },
     "execution_count": 23,
     "metadata": {},
     "output_type": "execute_result"
    }
   ],
   "source": [
    "# 在baseline賺或持平時，KD賠的比例\n",
    "len(result_df[(result_df[\"baseline\"]>=0)&(result_df[\"kd\"]<0)])/len(result_df[result_df[\"baseline\"]>=0])"
   ]
  },
  {
   "cell_type": "code",
   "execution_count": null,
   "metadata": {},
   "outputs": [],
   "source": []
  }
 ],
 "metadata": {
  "kernelspec": {
   "display_name": "Python [default]",
   "language": "python",
   "name": "python3"
  },
  "language_info": {
   "codemirror_mode": {
    "name": "ipython",
    "version": 3
   },
   "file_extension": ".py",
   "mimetype": "text/x-python",
   "name": "python",
   "nbconvert_exporter": "python",
   "pygments_lexer": "ipython3",
   "version": "3.6.5"
  }
 },
 "nbformat": 4,
 "nbformat_minor": 2
}
