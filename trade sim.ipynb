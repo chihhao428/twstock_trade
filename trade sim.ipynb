{
 "cells": [
  {
   "cell_type": "code",
   "execution_count": 1,
   "metadata": {},
   "outputs": [],
   "source": [
    "import pandas as pd\n",
    "import os\n",
    "import dataflow\n",
    "import datetime\n",
    "import trade_strategy\n",
    "from dateutil.relativedelta import relativedelta\n",
    "from trade_logger import TradeLogger, EventType\n",
    "%matplotlib inline"
   ]
  },
  {
   "cell_type": "code",
   "execution_count": 2,
   "metadata": {},
   "outputs": [],
   "source": [
    "df = pd.read_excel(\"./crawl_result/ETF50/1101.xlsx\")"
   ]
  },
  {
   "cell_type": "code",
   "execution_count": 3,
   "metadata": {
    "scrolled": true
   },
   "outputs": [
    {
     "name": "stdout",
     "output_type": "stream",
     "text": [
      "--\n",
      "--\n",
      "--\n",
      "--\n",
      "--\n",
      "--\n"
     ]
    },
    {
     "name": "stderr",
     "output_type": "stream",
     "text": [
      "/Users/rogerlo/Documents/work/code/python/test/finace_crawler/toolbox.py:78: FutureWarning: Currently, 'apply' passes the values as ndarrays to the applied function. In the future, this will change to passing it as Series objects. You need to specify 'raw=True' to keep the current behaviour, and you can pass 'raw=False' to silence this warning\n",
      "  rsv_series = df[column].rolling(window).apply(RSV)\n"
     ]
    }
   ],
   "source": [
    "df = dataflow.append_all_index(dataflow.preprocess(df))"
   ]
  },
  {
   "cell_type": "code",
   "execution_count": 4,
   "metadata": {},
   "outputs": [
    {
     "name": "stdout",
     "output_type": "stream",
     "text": [
      "2013-01-01 00:00:00: EventType.BUY_STOCK shares:2 price:39.000000 money_in_pocket:22.000000\n",
      "2013-07-25 00:00:00: EventType.GET_INTEREST shares:2 price:1.900000 money_in_pocket:25.800000\n",
      "year: 2013, diff: 18.300000, diff%: 18.300000\n",
      "2014-01-01 00:00:00: EventType.BUY_STOCK shares:2 price:45.400000 money_in_pocket:9.200000\n",
      "2014-07-17 00:00:00: EventType.GET_INTEREST shares:2 price:2.300000 money_in_pocket:13.800000\n",
      "year: 2014, diff: 0.600000, diff%: 0.600000\n",
      "2015-01-01 00:00:00: EventType.BUY_STOCK shares:2 price:43.000000 money_in_pocket:14.000000\n",
      "2015-07-23 00:00:00: EventType.GET_INTEREST shares:2 price:2.490000 money_in_pocket:18.980000\n",
      "year: 2015, diff: -26.420000, diff%: -26.420000\n",
      "2016-01-01 00:00:00: EventType.BUY_STOCK shares:3 price:26.150000 money_in_pocket:21.550000\n",
      "2016-07-25 00:00:00: EventType.GET_INTEREST shares:3 price:1.330000 money_in_pocket:25.540000\n",
      "year: 2016, diff: 30.990000, diff%: 30.990000\n",
      "2017-01-01 00:00:00: EventType.BUY_STOCK shares:2 price:35.150000 money_in_pocket:29.700000\n",
      "2017-07-25 00:00:00: EventType.GET_INTEREST shares:2 price:1.450000 money_in_pocket:32.600000\n",
      "year: 2017, diff: 5.500000, diff%: 5.500000\n"
     ]
    }
   ],
   "source": [
    "start_date = datetime.datetime(2013,1,1)\n",
    "end_date = datetime.datetime(2013,12,31)\n",
    "for i in range(5):\n",
    "    money_in_pocket = 100 #(K)\n",
    "    money_in_pocket_result, stock_share, end_price, trade_log = trade_strategy.baseline(df, money_in_pocket, start_date+relativedelta(years=i), end_date+relativedelta(years=i))\n",
    "    print(trade_log)\n",
    "    #報酬\n",
    "    diff = (stock_share*end_price+money_in_pocket_result) - money_in_pocket\n",
    "    #報酬率\n",
    "    print(\"year: {}, diff: {:f}, diff%: {:f}\".format((start_date+relativedelta(years=i)).year, diff, diff/money_in_pocket*100))\n",
    "    "
   ]
  },
  {
   "cell_type": "code",
   "execution_count": 5,
   "metadata": {},
   "outputs": [
    {
     "name": "stdout",
     "output_type": "stream",
     "text": [
      "2013-03-21 00:00:00: EventType.BUY_STOCK shares:1 price:36.500000 money_in_pocket:63.500000\n",
      "2013-03-22 00:00:00: EventType.BUY_STOCK shares:1 price:36.450000 money_in_pocket:27.050000\n",
      "2013-04-17 00:00:00: EventType.SELL_STOCK shares:1 price:38.400000 money_in_pocket:65.450000\n",
      "2013-04-19 00:00:00: EventType.SELL_STOCK shares:1 price:38.400000 money_in_pocket:103.850000\n",
      "2013-06-07 00:00:00: EventType.BUY_STOCK shares:1 price:37.850000 money_in_pocket:66.000000\n",
      "2013-06-13 00:00:00: EventType.BUY_STOCK shares:1 price:37.350000 money_in_pocket:28.650000\n",
      "2013-07-15 00:00:00: EventType.SELL_STOCK shares:1 price:38.000000 money_in_pocket:66.650000\n",
      "2013-07-16 00:00:00: EventType.SELL_STOCK shares:1 price:38.100000 money_in_pocket:104.750000\n",
      "2013-07-25 00:00:00: EventType.GET_INTEREST shares:0 price:1.900000 money_in_pocket:104.750000\n",
      "2013-11-06 00:00:00: EventType.BUY_STOCK shares:1 price:40.800000 money_in_pocket:63.950000\n",
      "2013-11-07 00:00:00: EventType.BUY_STOCK shares:1 price:41.050000 money_in_pocket:22.900000\n",
      "2013-11-29 00:00:00: EventType.SELL_STOCK shares:1 price:46.850000 money_in_pocket:69.750000\n",
      "2013-12-02 00:00:00: EventType.SELL_STOCK shares:1 price:46.350000 money_in_pocket:116.100000\n",
      "year: 2013, diff: 16.100000, diff%: 16.100000\n",
      "2014-05-09 00:00:00: EventType.BUY_STOCK shares:1 price:45.300000 money_in_pocket:54.700000\n",
      "2014-05-12 00:00:00: EventType.BUY_STOCK shares:1 price:44.200000 money_in_pocket:10.500000\n",
      "2014-07-17 00:00:00: EventType.GET_INTEREST shares:2 price:2.300000 money_in_pocket:15.100000\n",
      "2014-08-20 00:00:00: EventType.SELL_STOCK shares:1 price:47.000000 money_in_pocket:62.100000\n",
      "2014-08-21 00:00:00: EventType.SELL_STOCK shares:1 price:47.500000 money_in_pocket:109.600000\n",
      "2014-09-30 00:00:00: EventType.BUY_STOCK shares:1 price:45.300000 money_in_pocket:64.300000\n",
      "2014-10-01 00:00:00: EventType.BUY_STOCK shares:1 price:44.800000 money_in_pocket:19.500000\n",
      "2014-10-29 00:00:00: EventType.SELL_STOCK shares:1 price:46.750000 money_in_pocket:66.250000\n",
      "2014-11-17 00:00:00: EventType.BUY_STOCK shares:1 price:44.600000 money_in_pocket:21.650000\n",
      "year: 2014, diff: 8.450000, diff%: 8.450000\n",
      "2015-01-14 00:00:00: EventType.BUY_STOCK shares:1 price:41.300000 money_in_pocket:58.700000\n",
      "2015-01-28 00:00:00: EventType.SELL_STOCK shares:1 price:42.950000 money_in_pocket:101.650000\n",
      "2015-05-07 00:00:00: EventType.BUY_STOCK shares:1 price:42.400000 money_in_pocket:59.250000\n",
      "2015-05-08 00:00:00: EventType.BUY_STOCK shares:1 price:42.550000 money_in_pocket:16.700000\n",
      "2015-07-03 00:00:00: EventType.SELL_STOCK shares:1 price:40.100000 money_in_pocket:56.800000\n",
      "2015-07-23 00:00:00: EventType.GET_INTEREST shares:1 price:2.490000 money_in_pocket:59.290000\n",
      "2015-07-30 00:00:00: EventType.BUY_STOCK shares:1 price:34.800000 money_in_pocket:24.490000\n",
      "2015-09-15 00:00:00: EventType.SELL_STOCK shares:1 price:35.600000 money_in_pocket:60.090000\n",
      "2015-09-16 00:00:00: EventType.SELL_STOCK shares:1 price:35.500000 money_in_pocket:95.590000\n",
      "2015-11-13 00:00:00: EventType.BUY_STOCK shares:1 price:33.800000 money_in_pocket:61.790000\n",
      "2015-11-16 00:00:00: EventType.BUY_STOCK shares:1 price:33.300000 money_in_pocket:28.490000\n",
      "2015-12-14 00:00:00: EventType.BUY_STOCK shares:1 price:27.150000 money_in_pocket:1.340000\n",
      "year: 2015, diff: -16.760000, diff%: -16.760000\n",
      "2016-01-26 00:00:00: EventType.BUY_STOCK shares:1 price:25.500000 money_in_pocket:74.500000\n",
      "2016-01-27 00:00:00: EventType.BUY_STOCK shares:1 price:25.500000 money_in_pocket:49.000000\n",
      "2016-01-28 00:00:00: EventType.BUY_STOCK shares:1 price:25.850000 money_in_pocket:23.150000\n",
      "2016-02-18 00:00:00: EventType.SELL_STOCK shares:1 price:29.050000 money_in_pocket:52.200000\n",
      "2016-02-19 00:00:00: EventType.SELL_STOCK shares:1 price:29.100000 money_in_pocket:81.300000\n",
      "2016-02-22 00:00:00: EventType.SELL_STOCK shares:1 price:29.300000 money_in_pocket:110.600000\n",
      "2016-05-06 00:00:00: EventType.BUY_STOCK shares:1 price:30.700000 money_in_pocket:79.900000\n",
      "2016-05-09 00:00:00: EventType.BUY_STOCK shares:1 price:30.000000 money_in_pocket:49.900000\n",
      "2016-05-10 00:00:00: EventType.BUY_STOCK shares:1 price:30.200000 money_in_pocket:19.700000\n",
      "2016-06-01 00:00:00: EventType.SELL_STOCK shares:1 price:29.900000 money_in_pocket:49.600000\n",
      "2016-06-02 00:00:00: EventType.SELL_STOCK shares:1 price:30.000000 money_in_pocket:79.600000\n",
      "2016-06-03 00:00:00: EventType.SELL_STOCK shares:1 price:30.700000 money_in_pocket:110.300000\n",
      "2016-07-25 00:00:00: EventType.GET_INTEREST shares:0 price:1.330000 money_in_pocket:110.300000\n",
      "2016-09-20 00:00:00: EventType.BUY_STOCK shares:1 price:34.500000 money_in_pocket:75.800000\n",
      "2016-10-26 00:00:00: EventType.SELL_STOCK shares:1 price:37.550000 money_in_pocket:113.350000\n",
      "2016-12-23 00:00:00: EventType.BUY_STOCK shares:1 price:34.350000 money_in_pocket:79.000000\n",
      "2016-12-26 00:00:00: EventType.BUY_STOCK shares:1 price:34.250000 money_in_pocket:44.750000\n",
      "2016-12-27 00:00:00: EventType.BUY_STOCK shares:1 price:34.100000 money_in_pocket:10.650000\n",
      "year: 2016, diff: 16.100000, diff%: 16.100000\n",
      "2017-05-11 00:00:00: EventType.BUY_STOCK shares:1 price:34.550000 money_in_pocket:65.450000\n",
      "2017-05-12 00:00:00: EventType.BUY_STOCK shares:1 price:34.050000 money_in_pocket:31.400000\n",
      "2017-06-29 00:00:00: EventType.SELL_STOCK shares:1 price:35.100000 money_in_pocket:66.500000\n",
      "2017-06-30 00:00:00: EventType.SELL_STOCK shares:1 price:35.200000 money_in_pocket:101.700000\n",
      "2017-07-25 00:00:00: EventType.GET_INTEREST shares:0 price:1.450000 money_in_pocket:101.700000\n",
      "2017-08-21 00:00:00: EventType.BUY_STOCK shares:1 price:34.100000 money_in_pocket:67.600000\n",
      "2017-08-22 00:00:00: EventType.BUY_STOCK shares:1 price:34.250000 money_in_pocket:33.350000\n",
      "2017-12-19 00:00:00: EventType.SELL_STOCK shares:1 price:34.450000 money_in_pocket:67.800000\n",
      "2017-12-20 00:00:00: EventType.SELL_STOCK shares:1 price:34.550000 money_in_pocket:102.350000\n",
      "year: 2017, diff: 2.350000, diff%: 2.350000\n"
     ]
    }
   ],
   "source": [
    "start_date = datetime.datetime(2013,1,1)\n",
    "end_date = datetime.datetime(2013,12,31)\n",
    "for i in range(5):\n",
    "    money_in_pocket = 100 #(K)\n",
    "    money_in_pocket_result, stock_share, end_price, trade_log = trade_strategy.KD_basic(df, money_in_pocket, start_date+relativedelta(years=i), end_date+relativedelta(years=i))\n",
    "    print(trade_log)\n",
    "    #報酬\n",
    "    diff = (stock_share*end_price+money_in_pocket_result) - money_in_pocket\n",
    "    #報酬率\n",
    "    print(\"year: {}, diff: {:f}, diff%: {:f}\".format((start_date+relativedelta(years=i)).year, diff, diff/money_in_pocket*100))\n",
    "    "
   ]
  }
 ],
 "metadata": {
  "kernelspec": {
   "display_name": "Python [default]",
   "language": "python",
   "name": "python3"
  },
  "language_info": {
   "codemirror_mode": {
    "name": "ipython",
    "version": 3
   },
   "file_extension": ".py",
   "mimetype": "text/x-python",
   "name": "python",
   "nbconvert_exporter": "python",
   "pygments_lexer": "ipython3",
   "version": "3.6.5"
  }
 },
 "nbformat": 4,
 "nbformat_minor": 2
}
