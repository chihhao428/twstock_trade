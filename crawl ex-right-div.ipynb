{
 "cells": [
  {
   "cell_type": "code",
   "execution_count": 66,
   "metadata": {},
   "outputs": [],
   "source": [
    "import requests\n",
    "import pandas as pd\n",
    "import datetime\n",
    "import time\n",
    "from bs4 import BeautifulSoup"
   ]
  },
  {
   "cell_type": "code",
   "execution_count": 85,
   "metadata": {},
   "outputs": [],
   "source": [
    "start_year = 2012"
   ]
  },
  {
   "cell_type": "code",
   "execution_count": 89,
   "metadata": {},
   "outputs": [],
   "source": [
    "def get_ex(year):\n",
    "    columns = [\"市場\",\n",
    "           \"代碼\",\n",
    "           \"股票名稱\",\n",
    "           \"股利所屬年度\",\n",
    "           \"股東會日期\",\n",
    "           \"除息交易日\",\n",
    "           \"除息參考價(元)\",\n",
    "           \"除權交易日\",\n",
    "           \"除權參考價(元)\",\n",
    "           \"現金股利發放日\",\n",
    "           \"現金股利_盈餘\",\n",
    "           \"現金股利_公積\",\n",
    "           \"現金股利_合計\",\n",
    "           \"股票股利_盈餘\",\n",
    "           \"股票股利_公積\",\n",
    "           \"股票股利_合計\",\n",
    "           \"股利合計\"]\n",
    "    headers = {\n",
    "        'User-Agent': 'Mozilla/5.0 (Macintosh; Intel Mac OS X 10_14_3) AppleWebKit/537.36 (KHTML, like Gecko) Chrome/72.0.3626.109 Safari/537.36',\n",
    "        #'cookie': 'gsScrollPos-3110=; CLIENT%5FID=20190305101753359%5F61%2E216%2E75%2E235; SCREEN_SIZE=WIDTH=1440&HEIGHT=900; _ga=GA1.2.1215980453.1551752273; _gid=GA1.2.15655548.1552272184'\n",
    "    }\n",
    "    url = \"https://goodinfo.tw/StockInfo/StockDividendScheduleList.asp?MARKET_CAT=%E5%85%A8%E9%83%A8&INDUSTRY_CAT=%E5%85%A8%E9%83%A8&YEAR={}\".format(year)\n",
    "    result = requests.get(url=url, headers=headers)\n",
    "    result.encoding = 'UTF-8'\n",
    "    soup = BeautifulSoup(result.text)\n",
    "    detail_div = soup.find(\"div\",{\"id\":\"divDetail\"})\n",
    "    theads = detail_div.find(\"table\").find_all(\"thead\")\n",
    "    for thead in theads:\n",
    "        thead.decompose()\n",
    "    data = []\n",
    "    for tr in detail_div.find(\"table\").find_all(\"tr\"):\n",
    "        data.append([td.get_text().strip() for td in tr.find_all(\"td\")])\n",
    "    df = pd.DataFrame(data=data, columns=columns)\n",
    "    return df"
   ]
  },
  {
   "cell_type": "code",
   "execution_count": 90,
   "metadata": {},
   "outputs": [
    {
     "name": "stderr",
     "output_type": "stream",
     "text": [
      "/Users/rogerlo/miniconda3/lib/python3.6/site-packages/bs4/__init__.py:181: UserWarning: No parser was explicitly specified, so I'm using the best available HTML parser for this system (\"lxml\"). This usually isn't a problem, but if you run this code on another system, or in a different virtual environment, it may use a different parser and behave differently.\n",
      "\n",
      "The code that caused this warning is on line 193 of the file /Users/rogerlo/miniconda3/lib/python3.6/runpy.py. To get rid of this warning, change code that looks like this:\n",
      "\n",
      " BeautifulSoup(YOUR_MARKUP})\n",
      "\n",
      "to this:\n",
      "\n",
      " BeautifulSoup(YOUR_MARKUP, \"lxml\")\n",
      "\n",
      "  markup_type=markup_type))\n"
     ]
    }
   ],
   "source": [
    "for i in range(2012, 2019):\n",
    "    df = get_ex(i)\n",
    "    df.to_excel(\"./crawl_result/EX_data/{}.xlsx\".format(i))\n",
    "    time.sleep(3)"
   ]
  },
  {
   "cell_type": "code",
   "execution_count": null,
   "metadata": {},
   "outputs": [],
   "source": []
  }
 ],
 "metadata": {
  "kernelspec": {
   "display_name": "Python [default]",
   "language": "python",
   "name": "python3"
  },
  "language_info": {
   "codemirror_mode": {
    "name": "ipython",
    "version": 3
   },
   "file_extension": ".py",
   "mimetype": "text/x-python",
   "name": "python",
   "nbconvert_exporter": "python",
   "pygments_lexer": "ipython3",
   "version": "3.6.5"
  }
 },
 "nbformat": 4,
 "nbformat_minor": 2
}
