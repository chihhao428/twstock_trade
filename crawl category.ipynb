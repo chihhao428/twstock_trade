{
 "cells": [
  {
   "cell_type": "code",
   "execution_count": 55,
   "metadata": {},
   "outputs": [],
   "source": [
    "import requests\n",
    "import pandas as pd\n",
    "from bs4 import BeautifulSoup\n"
   ]
  },
  {
   "cell_type": "markdown",
   "metadata": {},
   "source": [
    "## 大表"
   ]
  },
  {
   "cell_type": "code",
   "execution_count": 20,
   "metadata": {},
   "outputs": [],
   "source": [
    "result = requests.get(\"https://histock.tw/globalchart.aspx?m=tw\")"
   ]
  },
  {
   "cell_type": "code",
   "execution_count": 21,
   "metadata": {},
   "outputs": [
    {
     "name": "stderr",
     "output_type": "stream",
     "text": [
      "/Users/rogerlo/miniconda3/lib/python3.6/site-packages/bs4/__init__.py:181: UserWarning: No parser was explicitly specified, so I'm using the best available HTML parser for this system (\"lxml\"). This usually isn't a problem, but if you run this code on another system, or in a different virtual environment, it may use a different parser and behave differently.\n",
      "\n",
      "The code that caused this warning is on line 193 of the file /Users/rogerlo/miniconda3/lib/python3.6/runpy.py. To get rid of this warning, change code that looks like this:\n",
      "\n",
      " BeautifulSoup(YOUR_MARKUP})\n",
      "\n",
      "to this:\n",
      "\n",
      " BeautifulSoup(YOUR_MARKUP, \"lxml\")\n",
      "\n",
      "  markup_type=markup_type))\n"
     ]
    }
   ],
   "source": [
    "soup = BeautifulSoup(result.text)"
   ]
  },
  {
   "cell_type": "code",
   "execution_count": 9,
   "metadata": {},
   "outputs": [],
   "source": [
    "trs = soup.find(\"table\", {\"id\": \"oMainTable\"}).find_all(\"tr\")"
   ]
  },
  {
   "cell_type": "code",
   "execution_count": 71,
   "metadata": {},
   "outputs": [],
   "source": [
    "def get_category_detail(path):\n",
    "    output = []\n",
    "    result = requests.get(path)\n",
    "    soup = BeautifulSoup(result.text)\n",
    "    lis = soup.find(\"div\", {\"class\":\"grid-body\"}).find_all(\"ul\")[-1].find_all(\"li\")\n",
    "    for li in lis:\n",
    "        output.append({\n",
    "            \"name\": li.find_all(\"span\")[1].get_text(),\n",
    "            \"no\": li.find_all(\"span\")[0].get_text(),\n",
    "        })\n",
    "    return output"
   ]
  },
  {
   "cell_type": "markdown",
   "metadata": {},
   "source": [
    "## 上市"
   ]
  },
  {
   "cell_type": "code",
   "execution_count": 51,
   "metadata": {},
   "outputs": [
    {
     "name": "stderr",
     "output_type": "stream",
     "text": [
      "/Users/rogerlo/miniconda3/lib/python3.6/site-packages/bs4/__init__.py:181: UserWarning: No parser was explicitly specified, so I'm using the best available HTML parser for this system (\"lxml\"). This usually isn't a problem, but if you run this code on another system, or in a different virtual environment, it may use a different parser and behave differently.\n",
      "\n",
      "The code that caused this warning is on line 193 of the file /Users/rogerlo/miniconda3/lib/python3.6/runpy.py. To get rid of this warning, change code that looks like this:\n",
      "\n",
      " BeautifulSoup(YOUR_MARKUP})\n",
      "\n",
      "to this:\n",
      "\n",
      " BeautifulSoup(YOUR_MARKUP, \"lxml\")\n",
      "\n",
      "  markup_type=markup_type))\n"
     ]
    }
   ],
   "source": [
    "market = \"上市\"\n",
    "category_id = {} # XXX:[id,id]\n",
    "id_category = {} # XXX:[cat,cat]\n",
    "for div in soup.find_all(\"div\", {\"class\":\"asia-blk\"})[0:33]: #上市\n",
    "    a = div.find(\"a\")\n",
    "    href = \"https://histock.tw\"+a[\"href\"]\n",
    "    category = a.get_text()\n",
    "    stock_list = get_category_detail(href)\n",
    "    category_id[category] = [item[\"no\"] for item in stock_list]\n",
    "    for item in stock_list:\n",
    "        if item[\"no\"] not in id_category:\n",
    "            id_category[item[\"no\"]] = []\n",
    "        id_category[item[\"no\"]].append(category)"
   ]
  },
  {
   "cell_type": "code",
   "execution_count": 68,
   "metadata": {},
   "outputs": [],
   "source": [
    "category_id_df = pd.DataFrame()\n",
    "for key,val in category_id.items():\n",
    "    temp_df = pd.DataFrame({key: val})\n",
    "    category_id_df = pd.concat([category_id_df, temp_df], axis=1)\n",
    "\n",
    "ids = []\n",
    "categories = []\n",
    "for key,val in id_category.items():\n",
    "    ids.append(key)\n",
    "    categories.append(\"/\".join(val))\n",
    "id_category_df = pd.DataFrame({\"stock_no\":ids, \"category\": categories})"
   ]
  },
  {
   "cell_type": "code",
   "execution_count": 70,
   "metadata": {},
   "outputs": [],
   "source": [
    "with pd.ExcelWriter('./crawl_result/category/上市.xlsx') as writer:\n",
    "    category_id_df.to_excel(writer, sheet_name='category_id')\n",
    "    id_category_df.to_excel(writer, sheet_name='id_category')"
   ]
  },
  {
   "cell_type": "markdown",
   "metadata": {},
   "source": [
    "## 上櫃"
   ]
  },
  {
   "cell_type": "code",
   "execution_count": 72,
   "metadata": {},
   "outputs": [
    {
     "name": "stderr",
     "output_type": "stream",
     "text": [
      "/Users/rogerlo/miniconda3/lib/python3.6/site-packages/bs4/__init__.py:181: UserWarning: No parser was explicitly specified, so I'm using the best available HTML parser for this system (\"lxml\"). This usually isn't a problem, but if you run this code on another system, or in a different virtual environment, it may use a different parser and behave differently.\n",
      "\n",
      "The code that caused this warning is on line 193 of the file /Users/rogerlo/miniconda3/lib/python3.6/runpy.py. To get rid of this warning, change code that looks like this:\n",
      "\n",
      " BeautifulSoup(YOUR_MARKUP})\n",
      "\n",
      "to this:\n",
      "\n",
      " BeautifulSoup(YOUR_MARKUP, \"lxml\")\n",
      "\n",
      "  markup_type=markup_type))\n"
     ]
    }
   ],
   "source": [
    "market = \"上櫃\"\n",
    "category_id = {} # XXX:[id,id]\n",
    "id_category = {} # XXX:[cat,cat]\n",
    "for div in soup.find_all(\"div\", {\"class\":\"asia-blk\"})[33:]: #上櫃\n",
    "    a = div.find(\"a\")\n",
    "    href = \"https://histock.tw\"+a[\"href\"]\n",
    "    category = a.get_text()\n",
    "    stock_list = get_category_detail(href)\n",
    "    category_id[category] = [item[\"no\"] for item in stock_list]\n",
    "    for item in stock_list:\n",
    "        if item[\"no\"] not in id_category:\n",
    "            id_category[item[\"no\"]] = []\n",
    "        id_category[item[\"no\"]].append(category)"
   ]
  },
  {
   "cell_type": "code",
   "execution_count": 73,
   "metadata": {},
   "outputs": [],
   "source": [
    "category_id_df = pd.DataFrame()\n",
    "for key,val in category_id.items():\n",
    "    temp_df = pd.DataFrame({key: val})\n",
    "    category_id_df = pd.concat([category_id_df, temp_df], axis=1)\n",
    "\n",
    "ids = []\n",
    "categories = []\n",
    "for key,val in id_category.items():\n",
    "    ids.append(key)\n",
    "    categories.append(\"/\".join(val))\n",
    "id_category_df = pd.DataFrame({\"stock_no\":ids, \"category\": categories})"
   ]
  },
  {
   "cell_type": "code",
   "execution_count": 74,
   "metadata": {},
   "outputs": [],
   "source": [
    "with pd.ExcelWriter('./crawl_result/category/上櫃.xlsx') as writer:\n",
    "    category_id_df.to_excel(writer, sheet_name='category_id')\n",
    "    id_category_df.to_excel(writer, sheet_name='id_category')"
   ]
  }
 ],
 "metadata": {
  "kernelspec": {
   "display_name": "Python [default]",
   "language": "python",
   "name": "python3"
  },
  "language_info": {
   "codemirror_mode": {
    "name": "ipython",
    "version": 3
   },
   "file_extension": ".py",
   "mimetype": "text/x-python",
   "name": "python",
   "nbconvert_exporter": "python",
   "pygments_lexer": "ipython3",
   "version": "3.6.5"
  }
 },
 "nbformat": 4,
 "nbformat_minor": 2
}
