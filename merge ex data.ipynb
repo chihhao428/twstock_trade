{
 "cells": [
  {
   "cell_type": "code",
   "execution_count": 19,
   "metadata": {},
   "outputs": [],
   "source": [
    "import pandas as pd\n",
    "import datetime\n",
    "import os"
   ]
  },
  {
   "cell_type": "code",
   "execution_count": 20,
   "metadata": {},
   "outputs": [
    {
     "name": "stdout",
     "output_type": "stream",
     "text": [
      "2017.xlsx\n",
      "2016.xlsx\n",
      "2013.xlsx\n",
      "2012.xlsx\n",
      "2015.xlsx\n",
      "2014.xlsx\n",
      "2018.xlsx\n"
     ]
    }
   ],
   "source": [
    "ex_df = pd.DataFrame()\n",
    "for file in os.listdir(\"./crawl_result/EX_data/\"):\n",
    "    print(file)\n",
    "    df = pd.read_excel(\"./crawl_result/EX_data/\"+file)\n",
    "    ex_df = pd.concat([ex_df, df])"
   ]
  },
  {
   "cell_type": "code",
   "execution_count": 21,
   "metadata": {},
   "outputs": [],
   "source": [
    "def date_trans(raw_date):\n",
    "    try:\n",
    "        return datetime.datetime.strptime(raw_date, \"%Y/%m/%d\")\n",
    "    except:\n",
    "        return None\n",
    "ex_df[\"除息交易日\"] = ex_df[\"除息交易日\"].map(date_trans)"
   ]
  },
  {
   "cell_type": "code",
   "execution_count": 22,
   "metadata": {},
   "outputs": [],
   "source": [
    "ex_df[\"除權交易日\"] = ex_df[\"除權交易日\"].map(date_trans)"
   ]
  },
  {
   "cell_type": "code",
   "execution_count": 80,
   "metadata": {},
   "outputs": [],
   "source": [
    "stock_df = pd.read_excel(\"./crawl_result/ETF50/1101.xlsx\")\n",
    "stock_id = \"1101\""
   ]
  },
  {
   "cell_type": "code",
   "execution_count": 87,
   "metadata": {},
   "outputs": [],
   "source": [
    "def merge_ex(stock_id, stock_df):\n",
    "    rows = []\n",
    "    for idx, row in stock_df.iterrows():\n",
    "        if len(ex_df[(ex_df[\"除息交易日\"]==row[\"date\"]) & (ex_df[\"代碼\"]==stock_id)])>=1:\n",
    "            row[\"是否為除息日\"] = True\n",
    "            row[\"現金股利\"] = ex_df[(ex_df[\"除息交易日\"]==row[\"date\"]) & (ex_df[\"代碼\"]==stock_id)].iloc[0][\"現金股利_合計\"]\n",
    "        else:\n",
    "            row[\"是否為除息日\"] = False\n",
    "        if len(ex_df[(ex_df[\"除權交易日\"]==row[\"date\"]) & (ex_df[\"代碼\"]==stock_id)])>=1:\n",
    "            row[\"是否為除權日\"] = True\n",
    "            row[\"股票股利\"] = ex_df[(ex_df[\"除權交易日\"]==row[\"date\"]) & (ex_df[\"代碼\"]==stock_id)].iloc[0][\"股票股利_合計\"]\n",
    "        else:\n",
    "            row[\"是否為除權日\"] = False\n",
    "        rows.append(row)\n",
    "    df = pd.DataFrame(rows)\n",
    "    return df"
   ]
  },
  {
   "cell_type": "code",
   "execution_count": 88,
   "metadata": {},
   "outputs": [],
   "source": [
    "for filename in os.listdir(\"./crawl_result/ETF50/\"):\n",
    "    stock_df = pd.read_excel(\"./crawl_result/ETF50/{}\".format(filename))\n",
    "    stock_id = filename.split(\".\")[0]\n",
    "    stock_df = merge_ex(stock_id, stock_df)\n",
    "    stock_df.to_excel(\"./crawl_result/ETF50/{}\".format(filename))"
   ]
  },
  {
   "cell_type": "code",
   "execution_count": null,
   "metadata": {},
   "outputs": [],
   "source": [
    "for filename in os.listdir(\"./crawl_result/ETF100/\"):\n",
    "    stock_df = pd.read_excel(\"./crawl_result/ETF100/{}\".format(filename))\n",
    "    stock_id = filename.split(\".\")[0]\n",
    "    stock_df = merge_ex(stock_id, stock_df)\n",
    "    stock_df.to_excel(\"./crawl_result/ETF100/{}\".format(filename))"
   ]
  },
  {
   "cell_type": "code",
   "execution_count": null,
   "metadata": {},
   "outputs": [],
   "source": []
  }
 ],
 "metadata": {
  "kernelspec": {
   "display_name": "Python [default]",
   "language": "python",
   "name": "python3"
  },
  "language_info": {
   "codemirror_mode": {
    "name": "ipython",
    "version": 3
   },
   "file_extension": ".py",
   "mimetype": "text/x-python",
   "name": "python",
   "nbconvert_exporter": "python",
   "pygments_lexer": "ipython3",
   "version": "3.6.5"
  }
 },
 "nbformat": 4,
 "nbformat_minor": 2
}
